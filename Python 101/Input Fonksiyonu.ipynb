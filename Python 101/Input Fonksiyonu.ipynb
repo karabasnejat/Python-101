{
 "cells": [
  {
   "cell_type": "markdown",
   "metadata": {},
   "source": [
    "# Kullanıcıdan Bilgi Alma"
   ]
  },
  {
   "cell_type": "markdown",
   "metadata": {},
   "source": [
    "Kullanıcıdan girdi almamızı input() fonksiyonu sağlar."
   ]
  },
  {
   "cell_type": "code",
   "execution_count": 2,
   "metadata": {},
   "outputs": [
    {
     "name": "stdout",
     "output_type": "stream",
     "text": [
      "10\n"
     ]
    },
    {
     "data": {
      "text/plain": [
       "'10'"
      ]
     },
     "execution_count": 2,
     "metadata": {},
     "output_type": "execute_result"
    }
   ],
   "source": [
    "input()"
   ]
  },
  {
   "cell_type": "code",
   "execution_count": 4,
   "metadata": {},
   "outputs": [
    {
     "name": "stdout",
     "output_type": "stream",
     "text": [
      "Doğum tarihinizi giriniz:01.01.2000\n"
     ]
    },
    {
     "data": {
      "text/plain": [
       "'01.01.2000'"
      ]
     },
     "execution_count": 4,
     "metadata": {},
     "output_type": "execute_result"
    }
   ],
   "source": [
    "input(\"Doğum tarihinizi giriniz:\")"
   ]
  },
  {
   "cell_type": "code",
   "execution_count": 6,
   "metadata": {},
   "outputs": [
    {
     "name": "stdout",
     "output_type": "stream",
     "text": [
      "Doğum tarihinizi giriniz.01.01.2000\n",
      "Kullanıcının girdiği değer 01.01.2000\n"
     ]
    }
   ],
   "source": [
    "a = input(\"Doğum tarihinizi giriniz.\")\n",
    "print(\"Kullanıcının girdiği değer\",a)"
   ]
  },
  {
   "cell_type": "code",
   "execution_count": 9,
   "metadata": {},
   "outputs": [
    {
     "name": "stdout",
     "output_type": "stream",
     "text": [
      "Lütfen bir sayı giriniz :30\n",
      "303030\n"
     ]
    }
   ],
   "source": [
    "a = input(\"Lütfen bir sayı giriniz :\")\n",
    "print(a*3)"
   ]
  },
  {
   "cell_type": "code",
   "execution_count": 8,
   "metadata": {},
   "outputs": [
    {
     "name": "stdout",
     "output_type": "stream",
     "text": [
      "Lütfen bir sayı giriniz30\n",
      "<class 'str'>\n"
     ]
    }
   ],
   "source": [
    "a = input(\"Lütfen bir sayı giriniz\")\n",
    "print(type(a))"
   ]
  },
  {
   "cell_type": "code",
   "execution_count": 10,
   "metadata": {},
   "outputs": [
    {
     "name": "stdout",
     "output_type": "stream",
     "text": [
      "Lütfen bir sayı giriniz :30\n",
      "90\n"
     ]
    }
   ],
   "source": [
    "a = int(input(\"Lütfen bir sayı giriniz :\"))\n",
    "print(a * 3)\n"
   ]
  },
  {
   "cell_type": "code",
   "execution_count": 15,
   "metadata": {},
   "outputs": [
    {
     "name": "stdout",
     "output_type": "stream",
     "text": [
      "Birinci sayı:12\n",
      "İkinci sayı:34\n",
      "Üçüncü sayı:46\n",
      "Toplamları :  92\n"
     ]
    }
   ],
   "source": [
    "a = int(input(\"Birinci sayı:\"))\n",
    "b = int(input(\"İkinci sayı:\"))\n",
    "c = int(input(\"Üçüncü sayı:\"))\n",
    "print(\"Toplamları : \", a + b + c)"
   ]
  },
  {
   "cell_type": "code",
   "execution_count": 17,
   "metadata": {},
   "outputs": [
    {
     "name": "stdout",
     "output_type": "stream",
     "text": [
      "Birinci sayı:3.4\n",
      "İkinci sayı4.7\n",
      "Üçüncü sayı2.1\n",
      "Sonuç: 7.609523809523809\n"
     ]
    }
   ],
   "source": [
    "a = float(input(\"Birinci sayı:\"))\n",
    "b = float(input(\"İkinci sayı\"))\n",
    "c = float(input(\"Üçüncü sayı\"))\n",
    "print(\"Sonuç:\", a * b / c )"
   ]
  }
 ],
 "metadata": {
  "kernelspec": {
   "display_name": "Python 3",
   "language": "python",
   "name": "python3"
  },
  "language_info": {
   "codemirror_mode": {
    "name": "ipython",
    "version": 3
   },
   "file_extension": ".py",
   "mimetype": "text/x-python",
   "name": "python",
   "nbconvert_exporter": "python",
   "pygments_lexer": "ipython3",
   "version": "3.7.4"
  }
 },
 "nbformat": 4,
 "nbformat_minor": 2
}
