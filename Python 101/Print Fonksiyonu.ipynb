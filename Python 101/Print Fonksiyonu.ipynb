{
 "cells": [
  {
   "cell_type": "markdown",
   "metadata": {},
   "source": [
    "# print() Fonksiyonu\n",
    "- print() fonksiyonu ekrana bir değer bastırmamızı sağlar."
   ]
  },
  {
   "cell_type": "code",
   "execution_count": 2,
   "metadata": {},
   "outputs": [
    {
     "name": "stdout",
     "output_type": "stream",
     "text": [
      "Oğuzhan Nejat Karabaş\n"
     ]
    }
   ],
   "source": [
    "print(\"Oğuzhan Nejat Karabaş\")"
   ]
  },
  {
   "cell_type": "code",
   "execution_count": 3,
   "metadata": {},
   "outputs": [
    {
     "name": "stdout",
     "output_type": "stream",
     "text": [
      "35\n"
     ]
    }
   ],
   "source": [
    "print(35)"
   ]
  },
  {
   "cell_type": "code",
   "execution_count": 4,
   "metadata": {},
   "outputs": [
    {
     "name": "stdout",
     "output_type": "stream",
     "text": [
      "Hello World !\n"
     ]
    }
   ],
   "source": [
    "print(\"Hello World !\")"
   ]
  },
  {
   "cell_type": "code",
   "execution_count": 5,
   "metadata": {},
   "outputs": [
    {
     "name": "stdout",
     "output_type": "stream",
     "text": [
      "Python\n"
     ]
    }
   ],
   "source": [
    "print(\"Python\")"
   ]
  },
  {
   "cell_type": "code",
   "execution_count": 6,
   "metadata": {},
   "outputs": [
    {
     "name": "stdout",
     "output_type": "stream",
     "text": [
      "30\n"
     ]
    }
   ],
   "source": [
    "a = 10 \n",
    "b = 20\n",
    "c = a + b \n",
    "print(c)"
   ]
  },
  {
   "cell_type": "code",
   "execution_count": 7,
   "metadata": {},
   "outputs": [
    {
     "name": "stdout",
     "output_type": "stream",
     "text": [
      "35 3.14 Python Oğuzhan Nejat Karabaş\n"
     ]
    }
   ],
   "source": [
    "print(35,3.14,\"Python\",\"Oğuzhan Nejat Karabaş\")"
   ]
  },
  {
   "cell_type": "markdown",
   "metadata": {},
   "source": [
    "# Stringlerdeki Özel Karakterler"
   ]
  },
  {
   "cell_type": "markdown",
   "metadata": {},
   "source": [
    "- /n karakteri : yeni bir satır yaratmamıza yardımcı olur"
   ]
  },
  {
   "cell_type": "markdown",
   "metadata": {},
   "source": [
    "- /t karakteri: bir tab boşluk bırakıp yazma işlemine devam eder"
   ]
  },
  {
   "cell_type": "code",
   "execution_count": 9,
   "metadata": {},
   "outputs": [
    {
     "name": "stdout",
     "output_type": "stream",
     "text": [
      "Merhaba !\n",
      "Karantina nasıl geçiyor ?\n"
     ]
    }
   ],
   "source": [
    "print(\"Merhaba !\\nKarantina nasıl geçiyor ?\")"
   ]
  },
  {
   "cell_type": "code",
   "execution_count": 11,
   "metadata": {},
   "outputs": [
    {
     "name": "stdout",
     "output_type": "stream",
     "text": [
      "Stephen Curry sayı ortalaması:\t 30.3\n"
     ]
    }
   ],
   "source": [
    "print(\"Stephen Curry sayı ortalaması:\\t 30.3\")"
   ]
  },
  {
   "cell_type": "code",
   "execution_count": 13,
   "metadata": {},
   "outputs": [
    {
     "name": "stdout",
     "output_type": "stream",
     "text": [
      "İzmir\t\t\t\t\tİstanbul\n"
     ]
    }
   ],
   "source": [
    "print(\"İzmir\\t\\t\\t\\t\\tİstanbul\")"
   ]
  },
  {
   "cell_type": "markdown",
   "metadata": {},
   "source": [
    "# type() fonksiyonu\n",
    "- İçine yazdığımız değerin hangi veri tipine ait olduğunu bize bildirir."
   ]
  },
  {
   "cell_type": "code",
   "execution_count": 14,
   "metadata": {},
   "outputs": [
    {
     "data": {
      "text/plain": [
       "int"
      ]
     },
     "execution_count": 14,
     "metadata": {},
     "output_type": "execute_result"
    }
   ],
   "source": [
    "type(34)"
   ]
  },
  {
   "cell_type": "code",
   "execution_count": 15,
   "metadata": {},
   "outputs": [
    {
     "data": {
      "text/plain": [
       "float"
      ]
     },
     "execution_count": 15,
     "metadata": {},
     "output_type": "execute_result"
    }
   ],
   "source": [
    "type(22.7)"
   ]
  },
  {
   "cell_type": "code",
   "execution_count": 16,
   "metadata": {},
   "outputs": [
    {
     "data": {
      "text/plain": [
       "str"
      ]
     },
     "execution_count": 16,
     "metadata": {},
     "output_type": "execute_result"
    }
   ],
   "source": [
    "type(\"Lord of the Rings\")"
   ]
  },
  {
   "cell_type": "markdown",
   "metadata": {},
   "source": [
    "# print() fonksiyonun parametreleri "
   ]
  },
  {
   "cell_type": "raw",
   "metadata": {},
   "source": [
    "sep parametresi : yazdığımız değerlerin arasında farklı işlemler yapabilmemize olanak sağlar\n",
    "# normalde bu parametreyi kullanmadığımızda değerlerin arasında Python bir boşluk bırakır."
   ]
  },
  {
   "cell_type": "code",
   "execution_count": 19,
   "metadata": {},
   "outputs": [
    {
     "name": "stdout",
     "output_type": "stream",
     "text": [
      "Aragorn Gimli Gandalf Legolas Frodo Sam Pippin Merry Boromir\n"
     ]
    }
   ],
   "source": [
    "print (\"Aragorn\",\"Gimli\",\"Gandalf\",\"Legolas\",\"Frodo\",\"Sam\",\"Pippin\",\"Merry\",\"Boromir\")"
   ]
  },
  {
   "cell_type": "code",
   "execution_count": 20,
   "metadata": {},
   "outputs": [
    {
     "name": "stdout",
     "output_type": "stream",
     "text": [
      "Aragorn/Gimli/Gandalf/Legolas/Frodo/Sam/Pippin/Merry/Boromir\n"
     ]
    }
   ],
   "source": [
    "print (\"Aragorn\",\"Gimli\",\"Gandalf\",\"Legolas\",\"Frodo\",\"Sam\",\"Pippin\",\"Merry\",\"Boromir\",sep = \"/\")"
   ]
  },
  {
   "cell_type": "code",
   "execution_count": 22,
   "metadata": {},
   "outputs": [
    {
     "name": "stdout",
     "output_type": "stream",
     "text": [
      "Aragorn\n",
      "Gimli\n",
      "Gandalf\n",
      "Legolas\n",
      "Frodo\n",
      "Sam\n",
      "Pippin\n",
      "Merry\n",
      "Boromir\n"
     ]
    }
   ],
   "source": [
    "print (\"Aragorn\",\"Gimli\",\"Gandalf\",\"Legolas\",\"Frodo\",\"Sam\",\"Pippin\",\"Merry\",\"Boromir\",sep = \"\\n\")"
   ]
  },
  {
   "cell_type": "code",
   "execution_count": 25,
   "metadata": {},
   "outputs": [
    {
     "name": "stdout",
     "output_type": "stream",
     "text": [
      "Kobe Bryant/26/01/2020\n"
     ]
    }
   ],
   "source": [
    "print(\"Kobe Bryant\",\"26\",\"01\",\"2020\",sep = \"/\")"
   ]
  },
  {
   "cell_type": "code",
   "execution_count": 26,
   "metadata": {},
   "outputs": [
    {
     "name": "stdout",
     "output_type": "stream",
     "text": [
      "M A N C H E S T E R   I S   R E D\n"
     ]
    }
   ],
   "source": [
    "print(*\"MANCHESTER IS RED\")"
   ]
  },
  {
   "cell_type": "code",
   "execution_count": 27,
   "metadata": {},
   "outputs": [
    {
     "name": "stdout",
     "output_type": "stream",
     "text": [
      "M/a/n/c/h/e/s/t/e/r\n"
     ]
    }
   ],
   "source": [
    "print(*\"Manchester\",sep = \"/\")"
   ]
  },
  {
   "cell_type": "code",
   "execution_count": 28,
   "metadata": {},
   "outputs": [
    {
     "name": "stdout",
     "output_type": "stream",
     "text": [
      "T.B.M.M\n"
     ]
    }
   ],
   "source": [
    "print(*\"TBMM\",sep =\".\")"
   ]
  },
  {
   "cell_type": "markdown",
   "metadata": {},
   "source": [
    "# Formatlama"
   ]
  },
  {
   "cell_type": "code",
   "execution_count": 29,
   "metadata": {},
   "outputs": [
    {
     "name": "stdout",
     "output_type": "stream",
     "text": [
      "10 + 4 'nin toplamı 14'dır.\n"
     ]
    }
   ],
   "source": [
    "a = 10\n",
    "b= 4\n",
    "print(\"{} + {} 'nin toplamı {}'dır.\".format(a,b,a+b))"
   ]
  },
  {
   "cell_type": "code",
   "execution_count": 30,
   "metadata": {},
   "outputs": [
    {
     "data": {
      "text/plain": [
       "'Oğuzhan Nejat Karabaş'"
      ]
     },
     "execution_count": 30,
     "metadata": {},
     "output_type": "execute_result"
    }
   ],
   "source": [
    "#Süslü parantezin içindekilere stringin sırasını atayarakta format fonksiyonunun içindekileri yazdırabiliriz.\n",
    "\"{0} {1} {2}\".format(\"Oğuzhan\",\"Nejat\",\"Karabaş\")"
   ]
  },
  {
   "cell_type": "code",
   "execution_count": 32,
   "metadata": {},
   "outputs": [
    {
     "data": {
      "text/plain": [
       "'3.15'"
      ]
     },
     "execution_count": 32,
     "metadata": {},
     "output_type": "execute_result"
    }
   ],
   "source": [
    "\"{:.2f}\".format(3.1453)\n",
    "#Süslü parantezin içine \":.2f \"yazdığımızda ondalıklı kısmın ilk 2 basamağını alıyor"
   ]
  },
  {
   "cell_type": "code",
   "execution_count": 35,
   "metadata": {},
   "outputs": [
    {
     "data": {
      "text/plain": [
       "'4.34'"
      ]
     },
     "execution_count": 35,
     "metadata": {},
     "output_type": "execute_result"
    }
   ],
   "source": [
    "\"{:.2f}\".format(4.34234)"
   ]
  },
  {
   "cell_type": "code",
   "execution_count": null,
   "metadata": {},
   "outputs": [],
   "source": []
  }
 ],
 "metadata": {
  "kernelspec": {
   "display_name": "Python 3",
   "language": "python",
   "name": "python3"
  },
  "language_info": {
   "codemirror_mode": {
    "name": "ipython",
    "version": 3
   },
   "file_extension": ".py",
   "mimetype": "text/x-python",
   "name": "python",
   "nbconvert_exporter": "python",
   "pygments_lexer": "ipython3",
   "version": "3.7.4"
  }
 },
 "nbformat": 4,
 "nbformat_minor": 2
}
